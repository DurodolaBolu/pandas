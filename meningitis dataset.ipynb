{
 "cells": [
  {
   "cell_type": "markdown",
   "metadata": {},
   "source": [
    "# Practicing with meningitis disease  dataset"
   ]
  },
  {
   "cell_type": "code",
   "execution_count": 1,
   "metadata": {},
   "outputs": [],
   "source": [
    "import pandas as pd\n",
    "import numpy as np"
   ]
  },
  {
   "cell_type": "code",
   "execution_count": 24,
   "metadata": {},
   "outputs": [
    {
     "data": {
      "text/html": [
       "<div>\n",
       "<style scoped>\n",
       "    .dataframe tbody tr th:only-of-type {\n",
       "        vertical-align: middle;\n",
       "    }\n",
       "\n",
       "    .dataframe tbody tr th {\n",
       "        vertical-align: top;\n",
       "    }\n",
       "\n",
       "    .dataframe thead th {\n",
       "        text-align: right;\n",
       "    }\n",
       "</style>\n",
       "<table border=\"1\" class=\"dataframe\">\n",
       "  <thead>\n",
       "    <tr style=\"text-align: right;\">\n",
       "      <th></th>\n",
       "      <th>firstname</th>\n",
       "      <th>middlename</th>\n",
       "    </tr>\n",
       "    <tr>\n",
       "      <th>id</th>\n",
       "      <th></th>\n",
       "      <th></th>\n",
       "    </tr>\n",
       "  </thead>\n",
       "  <tbody>\n",
       "    <tr>\n",
       "      <th>1</th>\n",
       "      <td>Grace</td>\n",
       "      <td>Solape</td>\n",
       "    </tr>\n",
       "    <tr>\n",
       "      <th>2</th>\n",
       "      <td>Kure</td>\n",
       "      <td>Balogun</td>\n",
       "    </tr>\n",
       "    <tr>\n",
       "      <th>3</th>\n",
       "      <td>Adaugo</td>\n",
       "      <td>Katerine</td>\n",
       "    </tr>\n",
       "    <tr>\n",
       "      <th>4</th>\n",
       "      <td>Mooslemat</td>\n",
       "      <td>Ifedayo</td>\n",
       "    </tr>\n",
       "    <tr>\n",
       "      <th>5</th>\n",
       "      <td>Yusuf</td>\n",
       "      <td>Okafor</td>\n",
       "    </tr>\n",
       "    <tr>\n",
       "      <th>6</th>\n",
       "      <td>Janet</td>\n",
       "      <td>Chioma</td>\n",
       "    </tr>\n",
       "    <tr>\n",
       "      <th>7</th>\n",
       "      <td>Adaugo</td>\n",
       "      <td>Adaobi</td>\n",
       "    </tr>\n",
       "    <tr>\n",
       "      <th>8</th>\n",
       "      <td>Danmbazzu</td>\n",
       "      <td>Osagie</td>\n",
       "    </tr>\n",
       "    <tr>\n",
       "      <th>9</th>\n",
       "      <td>Iyin</td>\n",
       "      <td>Osatimehin</td>\n",
       "    </tr>\n",
       "    <tr>\n",
       "      <th>10</th>\n",
       "      <td>Adaugo</td>\n",
       "      <td>Chika</td>\n",
       "    </tr>\n",
       "  </tbody>\n",
       "</table>\n",
       "</div>"
      ],
      "text/plain": [
       "    firstname  middlename\n",
       "id                       \n",
       "1       Grace      Solape\n",
       "2        Kure     Balogun\n",
       "3      Adaugo    Katerine\n",
       "4   Mooslemat     Ifedayo\n",
       "5       Yusuf      Okafor\n",
       "6       Janet      Chioma\n",
       "7      Adaugo      Adaobi\n",
       "8   Danmbazzu      Osagie\n",
       "9        Iyin  Osatimehin\n",
       "10     Adaugo       Chika"
      ]
     },
     "execution_count": 24,
     "metadata": {},
     "output_type": "execute_result"
    }
   ],
   "source": [
    "# reading the disease outbreak dataset with pandas\n",
    "data = pd.read_csv('meningitis_dataset.csv', index_col=0)\n",
    "\n",
    "# Selecting the first set of rows using head( method)\n",
    "first_10 = data.head(10)\n",
    "\n",
    "# Checking the bottom 3 rows\n",
    "data.tail(3)\n",
    "\n",
    "# Checking through the columns\n",
    "data.columns\n",
    "\n",
    "# Trying to get a column entries\n",
    "first_10['disease']\n",
    "\n",
    "# getting sub-arrays using iloc, loc and ix \n",
    "first_10.iloc[:2,0:3]\n",
    "\n",
    "# Sorting values of an array\n",
    "first_10.iloc[:,1:3]"
   ]
  }
 ],
 "metadata": {
  "kernelspec": {
   "display_name": "Python 3",
   "language": "python",
   "name": "python3"
  },
  "language_info": {
   "codemirror_mode": {
    "name": "ipython",
    "version": 3
   },
   "file_extension": ".py",
   "mimetype": "text/x-python",
   "name": "python",
   "nbconvert_exporter": "python",
   "pygments_lexer": "ipython3",
   "version": "3.6.5"
  }
 },
 "nbformat": 4,
 "nbformat_minor": 2
}
