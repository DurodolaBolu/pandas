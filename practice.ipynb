{
 "cells": [
  {
   "cell_type": "markdown",
   "metadata": {},
   "source": [
    "## Hierarchical indexing"
   ]
  },
  {
   "cell_type": "code",
   "execution_count": 1,
   "metadata": {},
   "outputs": [],
   "source": [
    "import pandas as pd\n",
    "import numpy as np"
   ]
  },
  {
   "cell_type": "code",
   "execution_count": 2,
   "metadata": {},
   "outputs": [],
   "source": [
    "# Tracking data abput a state for two different years\n",
    "# Using the python MultiIndex\n",
    "\n",
    "index = [('California', 2000), ('California', 2010),\n",
    "         ('New York', 2000), ('New York', 2010),\n",
    "         ('Texas', 2000), ('Texas', 2010)]\n",
    "populations = [33871648, 37253956,\n",
    "               18976457, 19378102,\n",
    "               20851820, 25145561]\n",
    "pop = pd.Series(populations, index=index)\n"
   ]
  },
  {
   "cell_type": "code",
   "execution_count": 3,
   "metadata": {},
   "outputs": [
    {
     "data": {
      "text/plain": [
       "California    33871648\n",
       "New York      18976457\n",
       "Texas         20851820\n",
       "dtype: int64"
      ]
     },
     "execution_count": 3,
     "metadata": {},
     "output_type": "execute_result"
    }
   ],
   "source": [
    "# Creating a MultiIndex with a tuple based index\n",
    "index = pd.MultiIndex.from_tuples(index)\n",
    "\n",
    "# Reindexing the pop series with the MultiIndex above\n",
    "pop = pop.reindex(index)\n",
    "\n",
    "# Selecting a subset of the data using the 2nd level of the multiple index\n",
    "pop[:, 2000]"
   ]
  },
  {
   "cell_type": "code",
   "execution_count": 24,
   "metadata": {},
   "outputs": [],
   "source": [
    "# Converting a multiply index series to a conventional pandas DataFrame by unstack() mehtod\n",
    "pop_unstacked = pop.unstack()\n",
    "pop_unstacked\n",
    "\n",
    "# The unstacked pop DataFrame object can be changed back to a multiply index series\n",
    "# Using stack() method\n",
    "\n",
    "pop_stacked = pop_unstacked.stack()\n",
    "# Adding another column to the dataframe \n",
    "pop_stacked = pd.DataFrame({'total':pop_stacked,\n",
    "                            'under_18':[9267089, 9284094,\n",
    "                                        4687374, 4318033,\n",
    "                                        5906301, 6879014]})\n",
    "pop_stacked['divide'] =  pop_stacked['under_18']/pop_stacked['total']\n",
    "pop_stacked\n",
    "\n",
    "# Passing appropriate tuples as key, pandas automatically use multiIndex by default\n",
    "data = {('California', 2000): 33871648, \n",
    "        ('California', 2010): 37253956, \n",
    "        ('Texas', 2000): 20851820, \n",
    "        ('Texas', 2010): 25145561, \n",
    "        ('New York', 2000): 18976457, \n",
    "        ('New York', 2010): 19378102}\n",
    "data_series=pd.Series(data)"
   ]
  },
  {
   "cell_type": "code",
   "execution_count": 9,
   "metadata": {},
   "outputs": [
    {
     "data": {
      "text/html": [
       "<div>\n",
       "<style scoped>\n",
       "    .dataframe tbody tr th:only-of-type {\n",
       "        vertical-align: middle;\n",
       "    }\n",
       "\n",
       "    .dataframe tbody tr th {\n",
       "        vertical-align: top;\n",
       "    }\n",
       "\n",
       "    .dataframe thead tr th {\n",
       "        text-align: left;\n",
       "    }\n",
       "\n",
       "    .dataframe thead tr:last-of-type th {\n",
       "        text-align: right;\n",
       "    }\n",
       "</style>\n",
       "<table border=\"1\" class=\"dataframe\">\n",
       "  <thead>\n",
       "    <tr>\n",
       "      <th></th>\n",
       "      <th>State</th>\n",
       "      <th colspan=\"2\" halign=\"left\">Ohio</th>\n",
       "      <th>Colorado</th>\n",
       "    </tr>\n",
       "    <tr>\n",
       "      <th></th>\n",
       "      <th>Color</th>\n",
       "      <th>Green</th>\n",
       "      <th>Red</th>\n",
       "      <th>Green</th>\n",
       "    </tr>\n",
       "    <tr>\n",
       "      <th>key1</th>\n",
       "      <th>key2</th>\n",
       "      <th></th>\n",
       "      <th></th>\n",
       "      <th></th>\n",
       "    </tr>\n",
       "  </thead>\n",
       "  <tbody>\n",
       "    <tr>\n",
       "      <th rowspan=\"3\" valign=\"top\">a</th>\n",
       "      <th>1</th>\n",
       "      <td>0</td>\n",
       "      <td>1</td>\n",
       "      <td>2</td>\n",
       "    </tr>\n",
       "    <tr>\n",
       "      <th>3</th>\n",
       "      <td>3</td>\n",
       "      <td>4</td>\n",
       "      <td>5</td>\n",
       "    </tr>\n",
       "    <tr>\n",
       "      <th>1</th>\n",
       "      <td>6</td>\n",
       "      <td>7</td>\n",
       "      <td>8</td>\n",
       "    </tr>\n",
       "    <tr>\n",
       "      <th>b</th>\n",
       "      <th>3</th>\n",
       "      <td>9</td>\n",
       "      <td>10</td>\n",
       "      <td>11</td>\n",
       "    </tr>\n",
       "  </tbody>\n",
       "</table>\n",
       "</div>"
      ],
      "text/plain": [
       "State      Ohio     Colorado\n",
       "Color     Green Red    Green\n",
       "key1 key2                   \n",
       "a    1        0   1        2\n",
       "     3        3   4        5\n",
       "     1        6   7        8\n",
       "b    3        9  10       11"
      ]
     },
     "execution_count": 9,
     "metadata": {},
     "output_type": "execute_result"
    }
   ],
   "source": [
    "# Further examples on hierarchical indexing\n",
    "# Creating a Dataframe with both axis having hierarchical index\n",
    "\n",
    "examp = pd.DataFrame(np.arange(12).reshape((4,3)),\n",
    "                     index=[['a','a','a','b'],[1,3,1,3]],\n",
    "                     columns=[['Ohio','Ohio', 'Colorado'],\n",
    "                              ['Green', 'Red', 'Green']])\n",
    "\n",
    "examp.index.names = ['key1', 'key2']\n",
    "\n",
    "examp.columns.names = ['State', 'Color']\n",
    "\n",
    "examp"
   ]
  }
 ],
 "metadata": {
  "kernelspec": {
   "display_name": "Python 3",
   "language": "python",
   "name": "python3"
  },
  "language_info": {
   "codemirror_mode": {
    "name": "ipython",
    "version": 3
   },
   "file_extension": ".py",
   "mimetype": "text/x-python",
   "name": "python",
   "nbconvert_exporter": "python",
   "pygments_lexer": "ipython3",
   "version": "3.6.5"
  }
 },
 "nbformat": 4,
 "nbformat_minor": 2
}
